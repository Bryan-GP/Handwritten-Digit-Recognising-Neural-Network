{
 "cells": [
  {
   "cell_type": "markdown",
   "id": "fa403c78",
   "metadata": {
    "papermill": {
     "duration": 0.004081,
     "end_time": "2024-10-05T21:35:34.056028",
     "exception": false,
     "start_time": "2024-10-05T21:35:34.051947",
     "status": "completed"
    },
    "tags": []
   },
   "source": [
    "# Digit Classifier Neural Netowrk"
   ]
  },
  {
   "cell_type": "markdown",
   "id": "ddaeedd6",
   "metadata": {
    "papermill": {
     "duration": 0.003342,
     "end_time": "2024-10-05T21:35:34.063181",
     "exception": false,
     "start_time": "2024-10-05T21:35:34.059839",
     "status": "completed"
    },
    "tags": []
   },
   "source": [
    "## Pre-Processing:"
   ]
  },
  {
   "cell_type": "code",
   "execution_count": 1,
   "id": "27257c4a",
   "metadata": {
    "execution": {
     "iopub.execute_input": "2024-10-05T21:35:34.073015Z",
     "iopub.status.busy": "2024-10-05T21:35:34.072029Z",
     "iopub.status.idle": "2024-10-05T21:35:39.732222Z",
     "shell.execute_reply": "2024-10-05T21:35:39.730678Z"
    },
    "papermill": {
     "duration": 5.66855,
     "end_time": "2024-10-05T21:35:39.735165",
     "exception": false,
     "start_time": "2024-10-05T21:35:34.066615",
     "status": "completed"
    },
    "tags": []
   },
   "outputs": [],
   "source": [
    "import numpy as np # linear algebra\n",
    "import pandas as pd # data processing, CSV file I/O (e.g. pd.read_csv)\n",
    "from matplotlib import pyplot as plt\n",
    "data = pd.read_csv('/kaggle/input/digit-recognizer/train.csv')  ## Dataset from kaggle\n",
    "\n",
    "data = np.array(data)\n",
    "m, n = data.shape\n",
    "np.random.shuffle(data)\n",
    "dataTest = data[0:1000].T\n",
    "yTest = dataTest[0]\n",
    "xTest = dataTest[1:n]\n",
    "\n",
    "dataTrain = data[1000:m].T\n",
    "yTrain = dataTrain[0]\n",
    "xTrain = dataTrain[1:n]\n",
    "xTrain = xTrain / 255 # dived by 255 for the softmax function"
   ]
  },
  {
   "cell_type": "markdown",
   "id": "5e7a4b37",
   "metadata": {
    "papermill": {
     "duration": 0.003502,
     "end_time": "2024-10-05T21:35:39.742414",
     "exception": false,
     "start_time": "2024-10-05T21:35:39.738912",
     "status": "completed"
    },
    "tags": []
   },
   "source": [
    "## Applied Theory:"
   ]
  },
  {
   "cell_type": "code",
   "execution_count": 2,
   "id": "13eb9943",
   "metadata": {
    "execution": {
     "iopub.execute_input": "2024-10-05T21:35:39.752003Z",
     "iopub.status.busy": "2024-10-05T21:35:39.751529Z",
     "iopub.status.idle": "2024-10-05T21:35:39.770718Z",
     "shell.execute_reply": "2024-10-05T21:35:39.769281Z"
    },
    "papermill": {
     "duration": 0.027286,
     "end_time": "2024-10-05T21:35:39.773400",
     "exception": false,
     "start_time": "2024-10-05T21:35:39.746114",
     "status": "completed"
    },
    "tags": []
   },
   "outputs": [],
   "source": [
    "def init_params(): ## randomises the weights and baises\n",
    "    W1 = np.random.rand(128,784) - 0.5\n",
    "    b1 = np.random.rand(128,1) - 0.5\n",
    "    \n",
    "    W2 = np.random.rand(64,128) - 0.5\n",
    "    b2 = np.random.rand(64,1) - 0.5\n",
    "    \n",
    "    W3 = np.random.rand(10,64) - 0.5\n",
    "    b3 = np.random.rand(10,1) - 0.5\n",
    "    \n",
    "    return W1, b1, W2, b2, W3, b3 \n",
    "    \n",
    "def ReLU(Z):\n",
    "    return np.maximum(Z,0)\n",
    "\n",
    "def softMax(Z):\n",
    "    expZ = np.exp(Z - np.max(Z, axis=0))  # Numerical stability fix\n",
    "    return expZ / np.sum(expZ, axis=0, keepdims=True)\n",
    "    \n",
    "def forward_propagtion(X, W1, b1, W2, b2, W3, b3):\n",
    "    Z1 = W1.dot(X) + b1\n",
    "    A1 = ReLU(Z1)\n",
    "    \n",
    "    Z2 = W2.dot(A1) + b2\n",
    "    A2 = ReLU(Z2)\n",
    "    \n",
    "    Z3 = W3.dot(A2) + b3\n",
    "    A3 = softMax(Z3)\n",
    "    return Z1, A1, Z2, A2, Z3, A3\n",
    "\n",
    "def actual(Y):\n",
    "    actual_y = np.zeros((Y.size, Y.max() + 1)) # creates the outputclasses \n",
    "    actual_y[np.arange(Y.size), Y] = 1\n",
    "    actual_y = actual_y.T\n",
    "    return actual_y\n",
    "\n",
    "def dx_ReLU(Z):\n",
    "    return Z>0\n",
    "\n",
    "def back_propagation(Z1, A1, Z2, A2, W2, Z3, A3, W3, X, Y):\n",
    "    m = Y.size\n",
    "    actual_y = actual(Y)\n",
    "    \n",
    "    dZ3 = A3 - actual_y    # 10x1\n",
    "    dW3 = (1/m) * dZ3.dot(A2.T)   # 10\n",
    "    db3 = (1/m) * np.sum(dZ3, axis=1, keepdims=True)  \n",
    "    \n",
    "    dZ2 = W3.T.dot(dZ3) * dx_ReLU(Z2)\n",
    "    dW2 = (1/m) * dZ2.dot(A1.T)\n",
    "    db2 = (1/m) * np.sum(dZ2, axis=1, keepdims=True) \n",
    "    \n",
    "    dZ1 = W2.T.dot(dZ2) * dx_ReLU(Z1)\n",
    "    dW1 = (1/m) * dZ1.dot(X.T)\n",
    "    db1 = (1/m) * np.sum(dZ1, axis=1, keepdims=True)  \n",
    "    \n",
    "    return dW1, db1, dW2, db2, dW3, db3\n",
    "\n",
    "def update_params(W1, b1, W2, b2, W3, b3, dW1, db1, dW2, db2, dW3, db3, alpha):\n",
    "    W1 = W1 - alpha * dW1\n",
    "    b1 = b1 - alpha * db1\n",
    "    W2 = W2 - alpha * dW2\n",
    "    b2 = b2 - alpha * db2\n",
    "    W3 = W3 - alpha * dW3\n",
    "    b3 = b3 - alpha * db3\n",
    "    return W1, b1, W2, b2, W3, b3"
   ]
  },
  {
   "cell_type": "code",
   "execution_count": 3,
   "id": "07edce24",
   "metadata": {
    "execution": {
     "iopub.execute_input": "2024-10-05T21:35:39.782891Z",
     "iopub.status.busy": "2024-10-05T21:35:39.782400Z",
     "iopub.status.idle": "2024-10-05T21:35:39.793904Z",
     "shell.execute_reply": "2024-10-05T21:35:39.792658Z"
    },
    "papermill": {
     "duration": 0.019195,
     "end_time": "2024-10-05T21:35:39.796376",
     "exception": false,
     "start_time": "2024-10-05T21:35:39.777181",
     "status": "completed"
    },
    "tags": []
   },
   "outputs": [],
   "source": [
    "def get_predictions(A3):\n",
    "    return np.argmax(A3, 0)\n",
    "\n",
    "def get_accuracy(predictions, Y):\n",
    "    return np.sum(predictions == Y) / Y.size\n",
    "\n",
    "def cross_entropy_loss(A3, Y):\n",
    "    m = Y.size\n",
    "    actual_y = actual(Y)\n",
    "    loss = -np.sum(actual_y * np.log(A3)) / m  # Cross-entropy loss\n",
    "    return loss\n",
    "\n",
    "def gradient_descent(X, Y, reps, alpha):\n",
    "    W1, b1, W2, b2, W3, b3 = init_params()\n",
    "    for i in range(reps):\n",
    "        Z1, A1, Z2, A2, Z3, A3 = forward_propagtion(X, W1, b1, W2, b2, W3, b3)\n",
    "        dW1, db1, dW2, db2, dW3, db3 = back_propagation(Z1, A1, Z2, A2, W2, Z3, A3, W3, X, Y)\n",
    "        W1, b1, W2, b2, W3, b3 = update_params(W1, b1, W2, b2, W3, b3, dW1, db1, dW2, db2, dW3, db3, alpha)\n",
    "        \n",
    "        if i % 50 == 0:\n",
    "            loss = cross_entropy_loss(A3, Y)\n",
    "            predictions = get_predictions(A3)\n",
    "            accuracy = get_accuracy(predictions, Y)\n",
    "            print(f\"Iteration: {i}, Loss: {loss}, Accuracy: {accuracy}\\n\")\n",
    "    return W1, b1, W2, b2, W3, b3"
   ]
  },
  {
   "cell_type": "markdown",
   "id": "06f1fab2",
   "metadata": {
    "papermill": {
     "duration": 0.003294,
     "end_time": "2024-10-05T21:35:39.803446",
     "exception": false,
     "start_time": "2024-10-05T21:35:39.800152",
     "status": "completed"
    },
    "tags": []
   },
   "source": [
    "## Training:"
   ]
  },
  {
   "cell_type": "code",
   "execution_count": 4,
   "id": "3d9d6d26",
   "metadata": {
    "execution": {
     "iopub.execute_input": "2024-10-05T21:35:39.812481Z",
     "iopub.status.busy": "2024-10-05T21:35:39.812023Z",
     "iopub.status.idle": "2024-10-05T21:39:56.404186Z",
     "shell.execute_reply": "2024-10-05T21:39:56.403198Z"
    },
    "papermill": {
     "duration": 256.605991,
     "end_time": "2024-10-05T21:39:56.412965",
     "exception": false,
     "start_time": "2024-10-05T21:35:39.806974",
     "status": "completed"
    },
    "tags": []
   },
   "outputs": [
    {
     "name": "stdout",
     "output_type": "stream",
     "text": [
      "Iteration: 0, Loss: 14.359573443191433, Accuracy: 0.08485365853658537\n",
      "\n",
      "Iteration: 50, Loss: 0.7660363777959581, Accuracy: 0.7671219512195122\n",
      "\n",
      "Iteration: 100, Loss: 0.559191306756898, Accuracy: 0.8309512195121951\n",
      "\n",
      "Iteration: 150, Loss: 0.46679794780314815, Accuracy: 0.8600487804878049\n",
      "\n",
      "Iteration: 200, Loss: 0.4113699328539762, Accuracy: 0.8763170731707317\n",
      "\n",
      "Iteration: 250, Loss: 0.3729221929116287, Accuracy: 0.8877804878048781\n",
      "\n",
      "Iteration: 300, Loss: 0.3439501229877275, Accuracy: 0.8962439024390244\n",
      "\n",
      "Iteration: 350, Loss: 0.32097233101695755, Accuracy: 0.9033170731707317\n",
      "\n",
      "Iteration: 400, Loss: 0.3021710639429569, Accuracy: 0.9087804878048781\n",
      "\n",
      "Iteration: 450, Loss: 0.2862677668895052, Accuracy: 0.9134390243902439\n",
      "\n",
      "Iteration: 500, Loss: 0.2726369139076979, Accuracy: 0.9177560975609756\n",
      "\n"
     ]
    }
   ],
   "source": [
    "W1, b1, W2, b2, W3, b3 = gradient_descent(xTrain, yTrain, 501, 0.1)"
   ]
  },
  {
   "cell_type": "code",
   "execution_count": 5,
   "id": "c91bdede",
   "metadata": {
    "execution": {
     "iopub.execute_input": "2024-10-05T21:39:56.427655Z",
     "iopub.status.busy": "2024-10-05T21:39:56.426323Z",
     "iopub.status.idle": "2024-10-05T21:39:56.437443Z",
     "shell.execute_reply": "2024-10-05T21:39:56.436459Z"
    },
    "papermill": {
     "duration": 0.021614,
     "end_time": "2024-10-05T21:39:56.440453",
     "exception": false,
     "start_time": "2024-10-05T21:39:56.418839",
     "status": "completed"
    },
    "tags": []
   },
   "outputs": [],
   "source": [
    "def make_predictions(X, W1, b1, W2, b2, W3, b3):\n",
    "    _, _, _, _, _, A3 = forward_propagtion(X, W1, b1, W2, b2, W3, b3)\n",
    "    predictions = get_predictions(A3)\n",
    "    return predictions\n",
    "\n",
    "def test_prediction(index, W1, b1, W2, b2, W3, b3):\n",
    "    current_image = xTrain[:, index, None]\n",
    "    prediction = make_predictions(current_image, W1, b1, W2, b2, W3, b3)\n",
    "    label = yTrain[index]\n",
    "    \n",
    "    print(\"Prediction: \", prediction)\n",
    "    print(\"Label: \", label)\n",
    "    \n",
    "    current_image = current_image.reshape((28, 28)) * 255\n",
    "    plt.gray()\n",
    "    plt.imshow(current_image, interpolation='nearest')\n",
    "    plt.show()"
   ]
  },
  {
   "cell_type": "code",
   "execution_count": 6,
   "id": "8cf7e507",
   "metadata": {
    "execution": {
     "iopub.execute_input": "2024-10-05T21:39:56.453308Z",
     "iopub.status.busy": "2024-10-05T21:39:56.452899Z",
     "iopub.status.idle": "2024-10-05T21:39:58.541969Z",
     "shell.execute_reply": "2024-10-05T21:39:58.540519Z"
    },
    "papermill": {
     "duration": 2.098506,
     "end_time": "2024-10-05T21:39:58.544691",
     "exception": false,
     "start_time": "2024-10-05T21:39:56.446185",
     "status": "completed"
    },
    "tags": []
   },
   "outputs": [
    {
     "name": "stdout",
     "output_type": "stream",
     "text": [
      "Prediction:  [2]\n",
      "Label:  2\n"
     ]
    },
    {
     "data": {
      "image/png": "[encoded data removed]",
      "text/plain": [
       "<Figure size 640x480 with 1 Axes>"
      ]
     },
     "metadata": {},
     "output_type": "display_data"
    },
    {
     "name": "stdout",
     "output_type": "stream",
     "text": [
      "Prediction:  [8]\n",
      "Label:  6\n"
     ]
    },
    {
     "data": {
      "image/png": "[encoded data removed]",
      "text/plain": [
       "<Figure size 640x480 with 1 Axes>"
      ]
     },
     "metadata": {},
     "output_type": "display_data"
    },
    {
     "name": "stdout",
     "output_type": "stream",
     "text": [
      "Prediction:  [4]\n",
      "Label:  4\n"
     ]
    },
    {
     "data": {
      "image/png": "[encoded data removed]",
      "text/plain": [
       "<Figure size 640x480 with 1 Axes>"
      ]
     },
     "metadata": {},
     "output_type": "display_data"
    },
    {
     "name": "stdout",
     "output_type": "stream",
     "text": [
      "Prediction:  [1]\n",
      "Label:  1\n"
     ]
    },
    {
     "data": {
      "image/png": "[encoded data removed]",
      "text/plain": [
       "<Figure size 640x480 with 1 Axes>"
      ]
     },
     "metadata": {},
     "output_type": "display_data"
    },
    {
     "name": "stdout",
     "output_type": "stream",
     "text": [
      "Prediction:  [2]\n",
      "Label:  2\n"
     ]
    },
    {
     "data": {
      "image/png": "[encoded data removed]",
      "text/plain": [
       "<Figure size 640x480 with 1 Axes>"
      ]
     },
     "metadata": {},
     "output_type": "display_data"
    },
    {
     "name": "stdout",
     "output_type": "stream",
     "text": [
      "Prediction:  [7]\n",
      "Label:  7\n"
     ]
    },
    {
     "data": {
      "image/png": "[encoded data removed]",
      "text/plain": [
       "<Figure size 640x480 with 1 Axes>"
      ]
     },
     "metadata": {},
     "output_type": "display_data"
    },
    {
     "name": "stdout",
     "output_type": "stream",
     "text": [
      "Prediction:  [6]\n",
      "Label:  6\n"
     ]
    },
    {
     "data": {
      "image/png": "[encoded data removed]",
      "text/plain": [
       "<Figure size 640x480 with 1 Axes>"
      ]
     },
     "metadata": {},
     "output_type": "display_data"
    },
    {
     "name": "stdout",
     "output_type": "stream",
     "text": [
      "Prediction:  [7]\n",
      "Label:  7\n"
     ]
    },
    {
     "data": {
      "image/png": "[encoded data removed]",
      "text/plain": [
       "<Figure size 640x480 with 1 Axes>"
      ]
     },
     "metadata": {},
     "output_type": "display_data"
    },
    {
     "name": "stdout",
     "output_type": "stream",
     "text": [
      "Prediction:  [0]\n",
      "Label:  0\n"
     ]
    },
    {
     "data": {
      "image/png": "[encoded data removed]",
      "text/plain": [
       "<Figure size 640x480 with 1 Axes>"
      ]
     },
     "metadata": {},
     "output_type": "display_data"
    },
    {
     "name": "stdout",
     "output_type": "stream",
     "text": [
      "Prediction:  [6]\n",
      "Label:  6\n"
     ]
    },
    {
     "data": {
      "image/png": "[encoded data removed]",
      "text/plain": [
       "<Figure size 640x480 with 1 Axes>"
      ]
     },
     "metadata": {},
     "output_type": "display_data"
    }
   ],
   "source": [
    "for i in range(10):\n",
    "    test_prediction(i,W1,b1,W2,b2,W3,b3)"
   ]
  }
 ],
 "metadata": {
  "kaggle": {
   "accelerator": "none",
   "dataSources": [
    {
     "databundleVersionId": 861823,
     "sourceId": 3004,
     "sourceType": "competition"
    }
   ],
   "dockerImageVersionId": 30746,
   "isGpuEnabled": false,
   "isInternetEnabled": false,
   "language": "python",
   "sourceType": "notebook"
  },
  "kernelspec": {
   "display_name": "Python 3",
   "language": "python",
   "name": "python3"
  },
  "language_info": {
   "codemirror_mode": {
    "name": "ipython",
    "version": 3
   },
   "file_extension": ".py",
   "mimetype": "text/x-python",
   "name": "python",
   "nbconvert_exporter": "python",
   "pygments_lexer": "ipython3",
   "version": "3.10.13"
  },
  "papermill": {
   "default_parameters": {},
   "duration": 268.676974,
   "end_time": "2024-10-05T21:39:59.076147",
   "environment_variables": {},
   "exception": null,
   "input_path": "__notebook__.ipynb",
   "output_path": "__notebook__.ipynb",
   "parameters": {},
   "start_time": "2024-10-05T21:35:30.399173",
   "version": "2.5.0"
  }
 },
 "nbformat": 4,
 "nbformat_minor": 5
}
